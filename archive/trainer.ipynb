{
 "cells": [
  {
   "cell_type": "code",
   "execution_count": 1,
   "id": "99495f75-176b-42fb-a1a9-5d191ffa68ad",
   "metadata": {},
   "outputs": [],
   "source": [
    "import numpy as np\n",
    "import pandas as pd\n",
    "import matplotlib.pyplot as plt\n",
    "from tqdm.auto import tqdm\n",
    "from sklearn.model_selection import train_test_split\n",
    "import torch\n",
    "import torch.nn as nn\n",
    "import torch.nn.functional as F\n",
    "from blinky import Blinky\n",
    "from finetune_utils import get_peft_model, merge_peft_model, Config\n",
    "from datasets import load_dataset\n",
    "from processor import BlinkyProcessor"
   ]
  },
  {
   "cell_type": "code",
   "execution_count": 2,
   "id": "36a260d5-ae83-4b67-a254-aca91f4fd4f6",
   "metadata": {},
   "outputs": [],
   "source": [
    "config = Config(\n",
    "    embed_dim = 576,\n",
    "    intermediate_dim = 1536,\n",
    "    max_position_embeddings = 8192,\n",
    "    base_theta = 100000,\n",
    "    num_q_heads = 9,\n",
    "    num_kv_heads = 3,\n",
    "    attn_dropout = 0.,\n",
    "    num_layers = 30,\n",
    "    vocab_size = 49152,\n",
    "    dtype = torch.bfloat16,\n",
    "    eos_token_id = 2,\n",
    "    image_start_token_id = 49152,\n",
    "    image_end_token_id = 49153,\n",
    "    image_token_id = 49154,\n",
    "    num_image_tokens=256,\n",
    "    prefix_length=1+256+1 #<|start_of_image|>256*<|image_token|><|end_of_image|>\n",
    ")"
   ]
  },
  {
   "cell_type": "code",
   "execution_count": 3,
   "id": "de11549f-d288-495d-954a-9f62aced8acc",
   "metadata": {},
   "outputs": [],
   "source": [
    "model = Blinky(config)"
   ]
  },
  {
   "cell_type": "code",
   "execution_count": 4,
   "id": "828bf1d1-73e4-468d-81c0-4fca439523d2",
   "metadata": {},
   "outputs": [
    {
     "name": "stdout",
     "output_type": "stream",
     "text": [
      "new_embedding_weight torch.Size([49155, 576])\n"
     ]
    }
   ],
   "source": [
    "model._prepare_for_training()"
   ]
  },
  {
   "cell_type": "code",
   "execution_count": 5,
   "id": "164a6611-5760-445d-9045-6fb7f772c943",
   "metadata": {},
   "outputs": [],
   "source": [
    "def verify_trainable_params():\n",
    "    for n,p in model.named_parameters():\n",
    "        if p.requires_grad:\n",
    "            print(n)\n",
    "\n",
    "# verify_trainable_params()"
   ]
  },
  {
   "cell_type": "code",
   "execution_count": 6,
   "id": "d2b9b315-f469-4057-86f6-8c7f68cbec83",
   "metadata": {},
   "outputs": [],
   "source": [
    "dataset = load_dataset('openbmb/RLAIF-V-Dataset')['train']"
   ]
  },
  {
   "cell_type": "code",
   "execution_count": 7,
   "id": "56400da3-431f-49d0-98c5-0ea8d211c59b",
   "metadata": {},
   "outputs": [],
   "source": [
    "origins = pd.DataFrame({'origin': dataset['origin_dataset']})"
   ]
  },
  {
   "cell_type": "code",
   "execution_count": 8,
   "id": "85bde06f-cc2d-4258-a574-1f77871a11fa",
   "metadata": {},
   "outputs": [
    {
     "data": {
      "text/plain": [
       "(80638, 2494)"
      ]
     },
     "execution_count": 8,
     "metadata": {},
     "output_type": "execute_result"
    }
   ],
   "source": [
    "train_idxs, valid_idxs = train_test_split(origins, stratify=origins['origin'], test_size=0.03, random_state=2025)\n",
    "len(train_idxs), len(valid_idxs)"
   ]
  },
  {
   "cell_type": "code",
   "execution_count": 9,
   "id": "71068d19-09ea-4313-9af9-c2bb63aca06c",
   "metadata": {},
   "outputs": [],
   "source": [
    "train_dataset = dataset.select(train_idxs.index)\n",
    "valid_dataset = dataset.select(valid_idxs.index)"
   ]
  },
  {
   "cell_type": "code",
   "execution_count": 10,
   "id": "e8430117-7aba-4b9a-b880-d345c67fb04f",
   "metadata": {},
   "outputs": [
    {
     "data": {
      "text/plain": [
       "Dataset({\n",
       "    features: ['ds_name', 'image', 'question', 'chosen', 'rejected', 'origin_dataset', 'origin_split', 'idx', 'image_path'],\n",
       "    num_rows: 80638\n",
       "})"
      ]
     },
     "execution_count": 10,
     "metadata": {},
     "output_type": "execute_result"
    }
   ],
   "source": [
    "train_dataset"
   ]
  },
  {
   "cell_type": "code",
   "execution_count": 11,
   "id": "87c03b2a-b1ee-404c-81ea-d3c5c85b4666",
   "metadata": {},
   "outputs": [],
   "source": [
    "def make_conversation(samples):\n",
    "    conversations = []\n",
    "    for q,a in zip(samples['question'], samples['chosen']):\n",
    "        conversations.append([\n",
    "            {'role': 'user', 'content': q},\n",
    "            {'role': 'assistant', 'content': a}\n",
    "        ])\n",
    "    samples['text'] = conversations\n",
    "    return samples"
   ]
  },
  {
   "cell_type": "code",
   "execution_count": 12,
   "id": "6996a8d9-e419-4485-a11b-f1c0a774a551",
   "metadata": {},
   "outputs": [],
   "source": [
    "train_dataset = train_dataset.select(np.arange(10_000))\n",
    "train_dataset = train_dataset.map(make_conversation,batched=True,num_proc=8,batch_size=512)"
   ]
  },
  {
   "cell_type": "code",
   "execution_count": 13,
   "id": "28d3e447-8b0a-4f0e-a8e9-4736d8eabba8",
   "metadata": {},
   "outputs": [],
   "source": [
    "train_dataset = train_dataset.remove_columns(\n",
    "    ['ds_name', 'question', 'chosen', 'rejected', 'origin_dataset', 'origin_split', 'idx', 'image_path']\n",
    ")"
   ]
  },
  {
   "cell_type": "code",
   "execution_count": 14,
   "id": "5256a509-d93c-434c-97c0-08b1ff7f3a1f",
   "metadata": {},
   "outputs": [],
   "source": [
    "processor = BlinkyProcessor('./Blinky')"
   ]
  },
  {
   "cell_type": "code",
   "execution_count": 15,
   "id": "f08756ec-ee15-4187-a065-307a21b877a4",
   "metadata": {},
   "outputs": [],
   "source": [
    "def collate_fn(samples):\n",
    "    inputs = processor(samples)\n",
    "    labels = inputs['input_ids'].clone()\n",
    "    # shift\n",
    "    labels[:,:-1] = labels[:,1:]\n",
    "    for ignore_token in [49154,49152,49153]:\n",
    "        mask = (labels==ignore_token).long()\n",
    "        labels[mask==1] = -100\n",
    "        \n",
    "    padding_mask = (inputs['input_ids']==processor.tokenizer.pad_token_id).long()\n",
    "    labels[padding_mask==1] = -100\n",
    "    inputs['labels'] = labels\n",
    "    return inputs"
   ]
  },
  {
   "cell_type": "code",
   "execution_count": 16,
   "id": "09d8f81f-377e-47c7-9811-a6559a520119",
   "metadata": {},
   "outputs": [],
   "source": [
    "model = model.cuda()"
   ]
  },
  {
   "cell_type": "code",
   "execution_count": 23,
   "id": "3baf8ebf-1d40-4cd2-b66b-996e12b0a9eb",
   "metadata": {},
   "outputs": [],
   "source": [
    "dataloader = torch.utils.data.DataLoader(\n",
    "    train_dataset,\n",
    "    batch_size = 2,\n",
    "    shuffle = True,\n",
    "    collate_fn = collate_fn,\n",
    "    num_workers = 1,\n",
    ")"
   ]
  },
  {
   "cell_type": "code",
   "execution_count": 30,
   "id": "9b5bc6c3-188e-4c72-a1c4-972485e76d1c",
   "metadata": {},
   "outputs": [],
   "source": [
    "from PIL import Image"
   ]
  },
  {
   "cell_type": "code",
   "execution_count": 34,
   "id": "6e3d146b-7640-4a3d-9582-8b5d448afca1",
   "metadata": {},
   "outputs": [
    {
     "data": {
      "text/plain": [
       "['<|start_of_image|><|image_token|><|image_token|><|image_token|><|image_token|><|image_token|><|image_token|><|image_token|><|image_token|><|image_token|><|image_token|><|image_token|><|image_token|><|image_token|><|image_token|><|image_token|><|image_token|><|image_token|><|image_token|><|image_token|><|image_token|><|image_token|><|image_token|><|image_token|><|image_token|><|image_token|><|image_token|><|image_token|><|image_token|><|image_token|><|image_token|><|image_token|><|image_token|><|image_token|><|image_token|><|image_token|><|image_token|><|image_token|><|image_token|><|image_token|><|image_token|><|image_token|><|image_token|><|image_token|><|image_token|><|image_token|><|image_token|><|image_token|><|image_token|><|image_token|><|image_token|><|image_token|><|image_token|><|image_token|><|image_token|><|image_token|><|image_token|><|image_token|><|image_token|><|image_token|><|image_token|><|image_token|><|image_token|><|image_token|><|image_token|><|image_token|><|image_token|><|image_token|><|image_token|><|image_token|><|image_token|><|image_token|><|image_token|><|image_token|><|image_token|><|image_token|><|image_token|><|image_token|><|image_token|><|image_token|><|image_token|><|image_token|><|image_token|><|image_token|><|image_token|><|image_token|><|image_token|><|image_token|><|image_token|><|image_token|><|image_token|><|image_token|><|image_token|><|image_token|><|image_token|><|image_token|><|image_token|><|image_token|><|image_token|><|image_token|><|image_token|><|image_token|><|image_token|><|image_token|><|image_token|><|image_token|><|image_token|><|image_token|><|image_token|><|image_token|><|image_token|><|image_token|><|image_token|><|image_token|><|image_token|><|image_token|><|image_token|><|image_token|><|image_token|><|image_token|><|image_token|><|image_token|><|image_token|><|image_token|><|image_token|><|image_token|><|image_token|><|image_token|><|image_token|><|image_token|><|image_token|><|image_token|><|image_token|><|image_token|><|image_token|><|image_token|><|image_token|><|image_token|><|image_token|><|image_token|><|image_token|><|image_token|><|image_token|><|image_token|><|image_token|><|image_token|><|image_token|><|image_token|><|image_token|><|image_token|><|image_token|><|image_token|><|image_token|><|image_token|><|image_token|><|image_token|><|image_token|><|image_token|><|image_token|><|image_token|><|image_token|><|image_token|><|image_token|><|image_token|><|image_token|><|image_token|><|image_token|><|image_token|><|image_token|><|image_token|><|image_token|><|image_token|><|image_token|><|image_token|><|image_token|><|image_token|><|image_token|><|image_token|><|image_token|><|image_token|><|image_token|><|image_token|><|image_token|><|image_token|><|image_token|><|image_token|><|image_token|><|image_token|><|image_token|><|image_token|><|image_token|><|image_token|><|image_token|><|image_token|><|image_token|><|image_token|><|image_token|><|image_token|><|image_token|><|image_token|><|image_token|><|image_token|><|image_token|><|image_token|><|image_token|><|image_token|><|image_token|><|image_token|><|image_token|><|image_token|><|image_token|><|image_token|><|image_token|><|image_token|><|image_token|><|image_token|><|image_token|><|image_token|><|image_token|><|image_token|><|image_token|><|image_token|><|image_token|><|image_token|><|image_token|><|image_token|><|image_token|><|image_token|><|image_token|><|image_token|><|image_token|><|image_token|><|image_token|><|image_token|><|image_token|><|image_token|><|image_token|><|image_token|><|image_token|><|image_token|><|image_token|><|image_token|><|image_token|><|image_token|><|image_token|><|image_token|><|image_token|><|image_token|><|image_token|><|image_token|><|image_token|><|image_token|><|image_token|><|image_token|><|image_token|><|image_token|><|image_token|><|end_of_image|>\\n<|im_start|>system\\nYou are a helpful AI assistant named Blinky with multimodal capabilities, trained by shreydan<|im_end|>\\n<|im_start|>user\\nwhat do you see in this image?<|im_end|>\\n']"
      ]
     },
     "execution_count": 34,
     "metadata": {},
     "output_type": "execute_result"
    }
   ],
   "source": [
    "sample = [{\n",
    "    'text': [{'role':'user','content':'what do you see in this image?'}],\n",
    "    'image': Image.open('./tests/cat.jpg')\n",
    "}]\n",
    "processor.apply_chat_template([s['text'] for s in sample])"
   ]
  },
  {
   "cell_type": "code",
   "execution_count": 24,
   "id": "03d21133-c9ab-4524-bd4e-c38ceac53964",
   "metadata": {},
   "outputs": [],
   "source": [
    "sample = next(iter(dataloader))"
   ]
  },
  {
   "cell_type": "code",
   "execution_count": 25,
   "id": "bee26fa1-d149-425d-88f4-6af3463677e2",
   "metadata": {},
   "outputs": [
    {
     "data": {
      "text/plain": [
       "{'input_ids': tensor([[49152, 49154, 49154, 49154, 49154, 49154, 49154, 49154, 49154, 49154,\n",
       "          49154, 49154, 49154, 49154, 49154, 49154, 49154, 49154, 49154, 49154,\n",
       "          49154, 49154, 49154, 49154, 49154, 49154, 49154, 49154, 49154, 49154,\n",
       "          49154, 49154, 49154, 49154, 49154, 49154, 49154, 49154, 49154, 49154,\n",
       "          49154, 49154, 49154, 49154, 49154, 49154, 49154, 49154, 49154, 49154,\n",
       "          49154, 49154, 49154, 49154, 49154, 49154, 49154, 49154, 49154, 49154,\n",
       "          49154, 49154, 49154, 49154, 49154, 49154, 49154, 49154, 49154, 49154,\n",
       "          49154, 49154, 49154, 49154, 49154, 49154, 49154, 49154, 49154, 49154,\n",
       "          49154, 49154, 49154, 49154, 49154, 49154, 49154, 49154, 49154, 49154,\n",
       "          49154, 49154, 49154, 49154, 49154, 49154, 49154, 49154, 49154, 49154,\n",
       "          49154, 49154, 49154, 49154, 49154, 49154, 49154, 49154, 49154, 49154,\n",
       "          49154, 49154, 49154, 49154, 49154, 49154, 49154, 49154, 49154, 49154,\n",
       "          49154, 49154, 49154, 49154, 49154, 49154, 49154, 49154, 49154, 49154,\n",
       "          49154, 49154, 49154, 49154, 49154, 49154, 49154, 49154, 49154, 49154,\n",
       "          49154, 49154, 49154, 49154, 49154, 49154, 49154, 49154, 49154, 49154,\n",
       "          49154, 49154, 49154, 49154, 49154, 49154, 49154, 49154, 49154, 49154,\n",
       "          49154, 49154, 49154, 49154, 49154, 49154, 49154, 49154, 49154, 49154,\n",
       "          49154, 49154, 49154, 49154, 49154, 49154, 49154, 49154, 49154, 49154,\n",
       "          49154, 49154, 49154, 49154, 49154, 49154, 49154, 49154, 49154, 49154,\n",
       "          49154, 49154, 49154, 49154, 49154, 49154, 49154, 49154, 49154, 49154,\n",
       "          49154, 49154, 49154, 49154, 49154, 49154, 49154, 49154, 49154, 49154,\n",
       "          49154, 49154, 49154, 49154, 49154, 49154, 49154, 49154, 49154, 49154,\n",
       "          49154, 49154, 49154, 49154, 49154, 49154, 49154, 49154, 49154, 49154,\n",
       "          49154, 49154, 49154, 49154, 49154, 49154, 49154, 49154, 49154, 49154,\n",
       "          49154, 49154, 49154, 49154, 49154, 49154, 49154, 49154, 49154, 49154,\n",
       "          49154, 49154, 49154, 49154, 49154, 49154, 49154, 49153,   198,     1,\n",
       "           9690,   198,  2683,   359,   253,  5356,  5646, 11173,  3365,  2114,\n",
       "            900,   105,   351, 37063, 32058,  7596,    28,  7018,   411,   443,\n",
       "            257,  4198,   276,     2,   198,     1,  4093,   198,  1780,   359,\n",
       "            260,  1646,  3004,   346,  7861,   281,   260,  2443,    47,     2,\n",
       "            198,     1,   520,  9531,   198,   504,  2443, 21559,   253, 26344,\n",
       "            355,  4054,   351,  1461,  3401,    30,   339,   416,   963,  2583,\n",
       "          38318,    28,   253,  9191,    28,   634, 16494,   284, 13590,    28,\n",
       "            284,   550, 20746, 37774,  3723,  3431,   983,   281,   715,  4978,\n",
       "             30,   378, 10995,  3894,   260, 11753,   282,   253, 10917,   837,\n",
       "           2206,  1124,   325,  2773,   281,  4381,  2484,   288,  5530,   355,\n",
       "          11717,    30,     2,   198,     2,     2,     2,     2,     2,     2,\n",
       "              2,     2,     2,     2,     2,     2,     2,     2,     2,     2,\n",
       "              2,     2,     2,     2,     2,     2,     2,     2,     2,     2,\n",
       "              2,     2,     2,     2,     2,     2,     2,     2,     2,     2,\n",
       "              2,     2,     2,     2,     2,     2,     2,     2],\n",
       "         [49152, 49154, 49154, 49154, 49154, 49154, 49154, 49154, 49154, 49154,\n",
       "          49154, 49154, 49154, 49154, 49154, 49154, 49154, 49154, 49154, 49154,\n",
       "          49154, 49154, 49154, 49154, 49154, 49154, 49154, 49154, 49154, 49154,\n",
       "          49154, 49154, 49154, 49154, 49154, 49154, 49154, 49154, 49154, 49154,\n",
       "          49154, 49154, 49154, 49154, 49154, 49154, 49154, 49154, 49154, 49154,\n",
       "          49154, 49154, 49154, 49154, 49154, 49154, 49154, 49154, 49154, 49154,\n",
       "          49154, 49154, 49154, 49154, 49154, 49154, 49154, 49154, 49154, 49154,\n",
       "          49154, 49154, 49154, 49154, 49154, 49154, 49154, 49154, 49154, 49154,\n",
       "          49154, 49154, 49154, 49154, 49154, 49154, 49154, 49154, 49154, 49154,\n",
       "          49154, 49154, 49154, 49154, 49154, 49154, 49154, 49154, 49154, 49154,\n",
       "          49154, 49154, 49154, 49154, 49154, 49154, 49154, 49154, 49154, 49154,\n",
       "          49154, 49154, 49154, 49154, 49154, 49154, 49154, 49154, 49154, 49154,\n",
       "          49154, 49154, 49154, 49154, 49154, 49154, 49154, 49154, 49154, 49154,\n",
       "          49154, 49154, 49154, 49154, 49154, 49154, 49154, 49154, 49154, 49154,\n",
       "          49154, 49154, 49154, 49154, 49154, 49154, 49154, 49154, 49154, 49154,\n",
       "          49154, 49154, 49154, 49154, 49154, 49154, 49154, 49154, 49154, 49154,\n",
       "          49154, 49154, 49154, 49154, 49154, 49154, 49154, 49154, 49154, 49154,\n",
       "          49154, 49154, 49154, 49154, 49154, 49154, 49154, 49154, 49154, 49154,\n",
       "          49154, 49154, 49154, 49154, 49154, 49154, 49154, 49154, 49154, 49154,\n",
       "          49154, 49154, 49154, 49154, 49154, 49154, 49154, 49154, 49154, 49154,\n",
       "          49154, 49154, 49154, 49154, 49154, 49154, 49154, 49154, 49154, 49154,\n",
       "          49154, 49154, 49154, 49154, 49154, 49154, 49154, 49154, 49154, 49154,\n",
       "          49154, 49154, 49154, 49154, 49154, 49154, 49154, 49154, 49154, 49154,\n",
       "          49154, 49154, 49154, 49154, 49154, 49154, 49154, 49154, 49154, 49154,\n",
       "          49154, 49154, 49154, 49154, 49154, 49154, 49154, 49154, 49154, 49154,\n",
       "          49154, 49154, 49154, 49154, 49154, 49154, 49154, 49153,   198,     1,\n",
       "           9690,   198,  2683,   359,   253,  5356,  5646, 11173,  3365,  2114,\n",
       "            900,   105,   351, 37063, 32058,  7596,    28,  7018,   411,   443,\n",
       "            257,  4198,   276,     2,   198,     1,  4093,   198,  1780,   314,\n",
       "            260,  1462,   282,   260,  1525,   451,  8443,   314,  8659,    47,\n",
       "              2,   198,     1,   520,  9531,   198,   504,  8443,   314,  8659,\n",
       "            260,  1525,   282,  1015,   253,  1297,  5460,   979,  5828,    30,\n",
       "           5064,   253,  1297,  5460,    28,  2117,  6961,   357,   614,   288,\n",
       "            480,  6923,   284,  8082,  5348,    28,  7071,   260,  8443,   506,\n",
       "           2470,   288,  1593,   335,   260,  3398,    28,  2474,   260,  1621,\n",
       "            282, 10736,    30,   657,   314,  1895,   327,  9346,   288, 16788,\n",
       "            288,  5442,  3372,   284,  5930,   288,  2381,   260,  2950,   282,\n",
       "           2253,    28,   480, 13913,    28,   284,   550,  3398,  3629,    30,\n",
       "            533,   800,  2075,    28,   357,   314,   253,  3425,  9702,   288,\n",
       "            722,   253,  3288,    29,  5725,  3476,   355,  5949,   260,  5756,\n",
       "           1092,  1015,   253,  1297,  5460,    30,     2,   198]]),\n",
       " 'pixel_values': tensor([[[[-0.7882, -0.8196, -0.8039,  ..., -0.7804, -0.7569, -0.7255],\n",
       "           [-0.7647, -0.7961, -0.7961,  ..., -0.7647, -0.7412, -0.7176],\n",
       "           [-0.7647, -0.7882, -0.7961,  ..., -0.7098, -0.6941, -0.6784],\n",
       "           ...,\n",
       "           [-0.8824, -0.8588, -0.8431,  ..., -0.0824, -0.0902, -0.0902],\n",
       "           [-0.9059, -0.8745, -0.8431,  ..., -0.0745, -0.0980, -0.1059],\n",
       "           [-0.8980, -0.8902, -0.8510,  ..., -0.0745, -0.1059, -0.1294]],\n",
       " \n",
       "          [[-0.9059, -0.9373, -0.9216,  ..., -0.7098, -0.6863, -0.6627],\n",
       "           [-0.8902, -0.9216, -0.9216,  ..., -0.7020, -0.6863, -0.6627],\n",
       "           [-0.8980, -0.9137, -0.9137,  ..., -0.6863, -0.6706, -0.6549],\n",
       "           ...,\n",
       "           [-0.8510, -0.8353, -0.8353,  ..., -0.3255, -0.3333, -0.3255],\n",
       "           [-0.8510, -0.8275, -0.8196,  ..., -0.3176, -0.3412, -0.3490],\n",
       "           [-0.8431, -0.8353, -0.8275,  ..., -0.3255, -0.3569, -0.3804]],\n",
       " \n",
       "          [[-0.8824, -0.9137, -0.8980,  ..., -0.6392, -0.6157, -0.5765],\n",
       "           [-0.8275, -0.8588, -0.8667,  ..., -0.6078, -0.5922, -0.5608],\n",
       "           [-0.8039, -0.8196, -0.8275,  ..., -0.5451, -0.5373, -0.5216],\n",
       "           ...,\n",
       "           [-0.7961, -0.7804, -0.7725,  ..., -0.2863, -0.2941, -0.2941],\n",
       "           [-0.8039, -0.7804, -0.7647,  ..., -0.2784, -0.3020, -0.3098],\n",
       "           [-0.7961, -0.7882, -0.7725,  ..., -0.2863, -0.3176, -0.3412]]],\n",
       " \n",
       " \n",
       "         [[[-0.9765, -0.9922, -0.9765,  ..., -0.8745, -0.8745, -0.8667],\n",
       "           [-0.9686, -0.9843, -0.9765,  ..., -0.8588, -0.8588, -0.8902],\n",
       "           [-0.9608, -0.9765, -0.9686,  ..., -0.8745, -0.8745, -0.8824],\n",
       "           ...,\n",
       "           [-0.8431, -0.8275, -0.8039,  ..., -0.3098, -0.3255, -0.3333],\n",
       "           [-0.8196, -0.8039, -0.7725,  ..., -0.2784, -0.3020, -0.3255],\n",
       "           [-0.8039, -0.7882, -0.7569,  ..., -0.2784, -0.3098, -0.3333]],\n",
       " \n",
       "          [[-0.9765, -0.9922, -0.9765,  ..., -0.8588, -0.8588, -0.8510],\n",
       "           [-0.9686, -0.9843, -0.9765,  ..., -0.8431, -0.8431, -0.8588],\n",
       "           [-0.9608, -0.9765, -0.9686,  ..., -0.8431, -0.8431, -0.8510],\n",
       "           ...,\n",
       "           [-0.8196, -0.8039, -0.7804,  ..., -0.4824, -0.4745, -0.4824],\n",
       "           [-0.8039, -0.7882, -0.7569,  ..., -0.4745, -0.4667, -0.4745],\n",
       "           [-0.8039, -0.7804, -0.7412,  ..., -0.4824, -0.4824, -0.4824]],\n",
       " \n",
       "          [[-0.9765, -0.9922, -0.9765,  ..., -0.8667, -0.8667, -0.8588],\n",
       "           [-0.9686, -0.9843, -0.9765,  ..., -0.8510, -0.8510, -0.8667],\n",
       "           [-0.9608, -0.9765, -0.9686,  ..., -0.8353, -0.8353, -0.8431],\n",
       "           ...,\n",
       "           [-0.8275, -0.8118, -0.7882,  ..., -0.5216, -0.5137, -0.5137],\n",
       "           [-0.8118, -0.8039, -0.7804,  ..., -0.5294, -0.5294, -0.5373],\n",
       "           [-0.8039, -0.7882, -0.7647,  ..., -0.5686, -0.5686, -0.5765]]]]),\n",
       " 'labels': tensor([[ -100,  -100,  -100,  -100,  -100,  -100,  -100,  -100,  -100,  -100,\n",
       "           -100,  -100,  -100,  -100,  -100,  -100,  -100,  -100,  -100,  -100,\n",
       "           -100,  -100,  -100,  -100,  -100,  -100,  -100,  -100,  -100,  -100,\n",
       "           -100,  -100,  -100,  -100,  -100,  -100,  -100,  -100,  -100,  -100,\n",
       "           -100,  -100,  -100,  -100,  -100,  -100,  -100,  -100,  -100,  -100,\n",
       "           -100,  -100,  -100,  -100,  -100,  -100,  -100,  -100,  -100,  -100,\n",
       "           -100,  -100,  -100,  -100,  -100,  -100,  -100,  -100,  -100,  -100,\n",
       "           -100,  -100,  -100,  -100,  -100,  -100,  -100,  -100,  -100,  -100,\n",
       "           -100,  -100,  -100,  -100,  -100,  -100,  -100,  -100,  -100,  -100,\n",
       "           -100,  -100,  -100,  -100,  -100,  -100,  -100,  -100,  -100,  -100,\n",
       "           -100,  -100,  -100,  -100,  -100,  -100,  -100,  -100,  -100,  -100,\n",
       "           -100,  -100,  -100,  -100,  -100,  -100,  -100,  -100,  -100,  -100,\n",
       "           -100,  -100,  -100,  -100,  -100,  -100,  -100,  -100,  -100,  -100,\n",
       "           -100,  -100,  -100,  -100,  -100,  -100,  -100,  -100,  -100,  -100,\n",
       "           -100,  -100,  -100,  -100,  -100,  -100,  -100,  -100,  -100,  -100,\n",
       "           -100,  -100,  -100,  -100,  -100,  -100,  -100,  -100,  -100,  -100,\n",
       "           -100,  -100,  -100,  -100,  -100,  -100,  -100,  -100,  -100,  -100,\n",
       "           -100,  -100,  -100,  -100,  -100,  -100,  -100,  -100,  -100,  -100,\n",
       "           -100,  -100,  -100,  -100,  -100,  -100,  -100,  -100,  -100,  -100,\n",
       "           -100,  -100,  -100,  -100,  -100,  -100,  -100,  -100,  -100,  -100,\n",
       "           -100,  -100,  -100,  -100,  -100,  -100,  -100,  -100,  -100,  -100,\n",
       "           -100,  -100,  -100,  -100,  -100,  -100,  -100,  -100,  -100,  -100,\n",
       "           -100,  -100,  -100,  -100,  -100,  -100,  -100,  -100,  -100,  -100,\n",
       "           -100,  -100,  -100,  -100,  -100,  -100,  -100,  -100,  -100,  -100,\n",
       "           -100,  -100,  -100,  -100,  -100,  -100,  -100,  -100,  -100,  -100,\n",
       "           -100,  -100,  -100,  -100,  -100,  -100,  -100,   198,     1,  9690,\n",
       "            198,  2683,   359,   253,  5356,  5646, 11173,  3365,  2114,   900,\n",
       "            105,   351, 37063, 32058,  7596,    28,  7018,   411,   443,   257,\n",
       "           4198,   276,     2,  -100,     1,  4093,   198,  1780,   359,   260,\n",
       "           1646,  3004,   346,  7861,   281,   260,  2443,    47,     2,  -100,\n",
       "              1,   520,  9531,   198,   504,  2443, 21559,   253, 26344,   355,\n",
       "           4054,   351,  1461,  3401,    30,   339,   416,   963,  2583, 38318,\n",
       "             28,   253,  9191,    28,   634, 16494,   284, 13590,    28,   284,\n",
       "            550, 20746, 37774,  3723,  3431,   983,   281,   715,  4978,    30,\n",
       "            378, 10995,  3894,   260, 11753,   282,   253, 10917,   837,  2206,\n",
       "           1124,   325,  2773,   281,  4381,  2484,   288,  5530,   355, 11717,\n",
       "             30,     2,  -100,     2,  -100,  -100,  -100,  -100,  -100,  -100,\n",
       "           -100,  -100,  -100,  -100,  -100,  -100,  -100,  -100,  -100,  -100,\n",
       "           -100,  -100,  -100,  -100,  -100,  -100,  -100,  -100,  -100,  -100,\n",
       "           -100,  -100,  -100,  -100,  -100,  -100,  -100,  -100,  -100,  -100,\n",
       "           -100,  -100,  -100,  -100,  -100,  -100,  -100,  -100],\n",
       "         [ -100,  -100,  -100,  -100,  -100,  -100,  -100,  -100,  -100,  -100,\n",
       "           -100,  -100,  -100,  -100,  -100,  -100,  -100,  -100,  -100,  -100,\n",
       "           -100,  -100,  -100,  -100,  -100,  -100,  -100,  -100,  -100,  -100,\n",
       "           -100,  -100,  -100,  -100,  -100,  -100,  -100,  -100,  -100,  -100,\n",
       "           -100,  -100,  -100,  -100,  -100,  -100,  -100,  -100,  -100,  -100,\n",
       "           -100,  -100,  -100,  -100,  -100,  -100,  -100,  -100,  -100,  -100,\n",
       "           -100,  -100,  -100,  -100,  -100,  -100,  -100,  -100,  -100,  -100,\n",
       "           -100,  -100,  -100,  -100,  -100,  -100,  -100,  -100,  -100,  -100,\n",
       "           -100,  -100,  -100,  -100,  -100,  -100,  -100,  -100,  -100,  -100,\n",
       "           -100,  -100,  -100,  -100,  -100,  -100,  -100,  -100,  -100,  -100,\n",
       "           -100,  -100,  -100,  -100,  -100,  -100,  -100,  -100,  -100,  -100,\n",
       "           -100,  -100,  -100,  -100,  -100,  -100,  -100,  -100,  -100,  -100,\n",
       "           -100,  -100,  -100,  -100,  -100,  -100,  -100,  -100,  -100,  -100,\n",
       "           -100,  -100,  -100,  -100,  -100,  -100,  -100,  -100,  -100,  -100,\n",
       "           -100,  -100,  -100,  -100,  -100,  -100,  -100,  -100,  -100,  -100,\n",
       "           -100,  -100,  -100,  -100,  -100,  -100,  -100,  -100,  -100,  -100,\n",
       "           -100,  -100,  -100,  -100,  -100,  -100,  -100,  -100,  -100,  -100,\n",
       "           -100,  -100,  -100,  -100,  -100,  -100,  -100,  -100,  -100,  -100,\n",
       "           -100,  -100,  -100,  -100,  -100,  -100,  -100,  -100,  -100,  -100,\n",
       "           -100,  -100,  -100,  -100,  -100,  -100,  -100,  -100,  -100,  -100,\n",
       "           -100,  -100,  -100,  -100,  -100,  -100,  -100,  -100,  -100,  -100,\n",
       "           -100,  -100,  -100,  -100,  -100,  -100,  -100,  -100,  -100,  -100,\n",
       "           -100,  -100,  -100,  -100,  -100,  -100,  -100,  -100,  -100,  -100,\n",
       "           -100,  -100,  -100,  -100,  -100,  -100,  -100,  -100,  -100,  -100,\n",
       "           -100,  -100,  -100,  -100,  -100,  -100,  -100,  -100,  -100,  -100,\n",
       "           -100,  -100,  -100,  -100,  -100,  -100,  -100,   198,     1,  9690,\n",
       "            198,  2683,   359,   253,  5356,  5646, 11173,  3365,  2114,   900,\n",
       "            105,   351, 37063, 32058,  7596,    28,  7018,   411,   443,   257,\n",
       "           4198,   276,     2,  -100,     1,  4093,   198,  1780,   314,   260,\n",
       "           1462,   282,   260,  1525,   451,  8443,   314,  8659,    47,     2,\n",
       "           -100,     1,   520,  9531,   198,   504,  8443,   314,  8659,   260,\n",
       "           1525,   282,  1015,   253,  1297,  5460,   979,  5828,    30,  5064,\n",
       "            253,  1297,  5460,    28,  2117,  6961,   357,   614,   288,   480,\n",
       "           6923,   284,  8082,  5348,    28,  7071,   260,  8443,   506,  2470,\n",
       "            288,  1593,   335,   260,  3398,    28,  2474,   260,  1621,   282,\n",
       "          10736,    30,   657,   314,  1895,   327,  9346,   288, 16788,   288,\n",
       "           5442,  3372,   284,  5930,   288,  2381,   260,  2950,   282,  2253,\n",
       "             28,   480, 13913,    28,   284,   550,  3398,  3629,    30,   533,\n",
       "            800,  2075,    28,   357,   314,   253,  3425,  9702,   288,   722,\n",
       "            253,  3288,    29,  5725,  3476,   355,  5949,   260,  5756,  1092,\n",
       "           1015,   253,  1297,  5460,    30,     2,  -100,   198]])}"
      ]
     },
     "execution_count": 25,
     "metadata": {},
     "output_type": "execute_result"
    }
   ],
   "source": [
    "sample"
   ]
  },
  {
   "cell_type": "code",
   "execution_count": 18,
   "id": "bc8fe0fa-3c35-4585-982f-1e5a151414fa",
   "metadata": {},
   "outputs": [],
   "source": [
    "def get_optimizer(model, vision_lr=1e-5, vision_proj_lr=1e-3, text_lr=1.5e-5):\n",
    "    \n",
    "    for p in model.parameters():\n",
    "        p.requires_grad = False\n",
    "    \n",
    "    vision_params = []\n",
    "    vision_proj_params = []\n",
    "    text_params = []\n",
    "    \n",
    "    for p in model.vision_model.vision.parameters():\n",
    "        p.requires_grad = True\n",
    "        vision_params.append(p)\n",
    "            \n",
    "    for p in model.vision_model.rms_norm.parameters():\n",
    "        p.requires_grad = True\n",
    "        vision_proj_params.append(p)\n",
    "                \n",
    "    for p in model.vision_model.dim_proj.parameters():\n",
    "        p.requires_grad = True\n",
    "        vision_proj_params.append(p)\n",
    "    \n",
    "    for n,p in model.text_model.named_parameters():\n",
    "        if 'embed_tokens' in n or 'lm_head' in n:\n",
    "            continue\n",
    "        else:\n",
    "            p.requires_grad = True\n",
    "            text_params.append(p)\n",
    "    \n",
    "    param_groups = [\n",
    "        {'params': vision_params, 'lr': vision_lr},\n",
    "        {'params': vision_proj_params, 'lr': vision_proj_lr},\n",
    "        {'params': text_params, 'lr': text_lr},\n",
    "    ]\n",
    "    \n",
    "    optimizer = torch.optim.AdamW(param_groups, weight_decay=0.1)\n",
    "    \n",
    "    trainable_params = sum(p.numel() for p in model.parameters() if p.requires_grad)\n",
    "    total_params = sum(p.numel() for p in model.parameters())\n",
    "    print(f\"Trainable parameters: {trainable_params:,} ({trainable_params/total_params:.2%} of total)\")\n",
    "    \n",
    "    return optimizer"
   ]
  },
  {
   "cell_type": "code",
   "execution_count": 19,
   "id": "990934af-35da-424a-ab0c-a46605e9bf77",
   "metadata": {},
   "outputs": [
    {
     "name": "stdout",
     "output_type": "stream",
     "text": [
      "Trainable parameters: 200,166,720 (87.61% of total)\n"
     ]
    }
   ],
   "source": [
    "optim = get_optimizer(model)\n",
    "sched = torch.optim.lr_scheduler.OneCycleLR(\n",
    "    optim,\n",
    "    max_lr=[pg['lr'] for pg in optim.param_groups],\n",
    "    total_steps=len(dataloader),\n",
    "    pct_start=0.1\n",
    ")"
   ]
  },
  {
   "cell_type": "code",
   "execution_count": 20,
   "id": "9b26cab9-3b21-4d35-a870-16a79f636650",
   "metadata": {},
   "outputs": [
    {
     "data": {
      "application/vnd.jupyter.widget-view+json": {
       "model_id": "dee05945c8304731a5c95f8d8822c3d5",
       "version_major": 2,
       "version_minor": 0
      },
      "text/plain": [
       "  0%|          | 0/1250 [00:00<?, ?it/s]"
      ]
     },
     "metadata": {},
     "output_type": "display_data"
    },
    {
     "name": "stdout",
     "output_type": "stream",
     "text": [
      "step=499 2.125\n",
      "step=999 2.234\n",
      "step=1249 1.852\n"
     ]
    }
   ],
   "source": [
    "losses = []\n",
    "log_steps = 500\n",
    "total_loss = 0\n",
    "for batch_idx, batch in tqdm(enumerate(dataloader), total=len(dataloader)):\n",
    "    batch = {k:v.cuda() for k,v in batch.items()}\n",
    "    loss = model(**batch)\n",
    "    loss.backward()\n",
    "    optim.step()\n",
    "    sched.step()\n",
    "    optim.zero_grad()\n",
    "    total_loss += loss.item()\n",
    "    if (batch_idx+1) % log_steps == 0 or batch_idx==len(dataloader)-1:\n",
    "        print(f\"step={batch_idx} {loss.item():.3f}\")\n",
    "        losses.append(total_loss / log_steps)\n",
    "        total_loss = 0."
   ]
  },
  {
   "cell_type": "code",
   "execution_count": 21,
   "id": "d90f0a5e-d601-411c-832b-709a1e3b0f9b",
   "metadata": {},
   "outputs": [
    {
     "data": {
      "image/png": "[encoded data removed]",
      "text/plain": [
       "<Figure size 640x480 with 1 Axes>"
      ]
     },
     "metadata": {},
     "output_type": "display_data"
    }
   ],
   "source": [
    "fig=plt.figure()\n",
    "plt.plot(losses)\n",
    "plt.title('loss curve')\n",
    "fig.savefig('losses.png')"
   ]
  },
  {
   "cell_type": "code",
   "execution_count": null,
   "id": "9f54748b-bb4e-4f9a-8cf8-9c4cde1c9fb3",
   "metadata": {},
   "outputs": [],
   "source": [
    "sd = merged_model.state_dict()\n",
    "torch.save(sd,'./Blinky/model.pt')"
   ]
  }
 ],
 "metadata": {
  "kernelspec": {
   "display_name": "Python 3 (ipykernel)",
   "language": "python",
   "name": "python3"
  },
  "language_info": {
   "codemirror_mode": {
    "name": "ipython",
    "version": 3
   },
   "file_extension": ".py",
   "mimetype": "text/x-python",
   "name": "python",
   "nbconvert_exporter": "python",
   "pygments_lexer": "ipython3",
   "version": "3.11.11"
  }
 },
 "nbformat": 4,
 "nbformat_minor": 5
}
