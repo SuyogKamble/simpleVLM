{
 "cells": [
  {
   "cell_type": "code",
   "execution_count": 6,
   "metadata": {},
   "outputs": [],
   "source": [
    "from timm import list_models, create_model\n",
    "import torch\n",
    "import torch.nn as nn"
   ]
  },
  {
   "cell_type": "code",
   "execution_count": 7,
   "metadata": {},
   "outputs": [
    {
     "name": "stderr",
     "output_type": "stream",
     "text": [
      "Unexpected keys (attn_pool.kv.bias, attn_pool.kv.weight, attn_pool.latent, attn_pool.mlp.fc1.bias, attn_pool.mlp.fc1.weight, attn_pool.mlp.fc2.bias, attn_pool.mlp.fc2.weight, attn_pool.norm.bias, attn_pool.norm.weight, attn_pool.proj.bias, attn_pool.proj.weight, attn_pool.q.bias, attn_pool.q.weight) found while loading pretrained weights. This may be expected if model is being adapted.\n"
     ]
    }
   ],
   "source": [
    "m = create_model('vit_base_patch16_siglip_224.v2_webli',pretrained=True,num_classes=0,global_pool='')"
   ]
  },
  {
   "cell_type": "code",
   "execution_count": 8,
   "metadata": {},
   "outputs": [
    {
     "data": {
      "text/plain": [
       "torch.Size([1, 196, 768])"
      ]
     },
     "execution_count": 8,
     "metadata": {},
     "output_type": "execute_result"
    }
   ],
   "source": [
    "m(torch.rand(1,3,224,224)).shape"
   ]
  },
  {
   "cell_type": "code",
   "execution_count": 9,
   "metadata": {},
   "outputs": [],
   "source": [
    "def pixel_shuffle(x, scale_factor=2):\n",
    "    bsz, seq, embed_dim = x.size()\n",
    "    height = width = int(seq**0.5)\n",
    "    x = x.view(bsz, height, width, embed_dim)\n",
    "    x = x.view(bsz, height, int(width / scale_factor), embed_dim * scale_factor)\n",
    "    x = x.permute(0, 2, 1, 3)\n",
    "    x = x.reshape(bsz, int(width / scale_factor), int(height / scale_factor), embed_dim * (scale_factor**2))\n",
    "    x = x.permute(0, 2, 1, 3)\n",
    "    x = x.reshape(bsz, int(seq / (scale_factor**2)), embed_dim * (scale_factor**2))\n",
    "    return x"
   ]
  },
  {
   "cell_type": "code",
   "execution_count": 10,
   "metadata": {},
   "outputs": [
    {
     "data": {
      "text/plain": [
       "torch.Size([1, 49, 3072])"
      ]
     },
     "execution_count": 10,
     "metadata": {},
     "output_type": "execute_result"
    }
   ],
   "source": [
    "pixel_shuffle(torch.rand(1,196,768)).shape"
   ]
  },
  {
   "cell_type": "code",
   "execution_count": 11,
   "metadata": {},
   "outputs": [],
   "source": [
    "class VisionProjector(nn.Module):\n",
    "    def __init__(self, dim, scale_factor):\n",
    "        super().__init__()\n",
    "        self.dim = dim\n",
    "        self.scale_factor = scale_factor\n",
    "        self.v_proj = nn.Linear(self.dim*(self.scale_factor**2),self.dim,bias=False)\n",
    "\n",
    "    def pixel_shuffle(self, x):\n",
    "        bsz, seq, embed_dim = x.size()\n",
    "        height = width = int(seq**0.5)\n",
    "        x = x.view(bsz, height, width, embed_dim)\n",
    "        x = x.view(bsz, height, int(width / self.scale_factor), embed_dim * self.scale_factor)\n",
    "        x = x.permute(0, 2, 1, 3)\n",
    "        x = x.reshape(bsz, int(width / self.scale_factor), int(height / self.scale_factor), embed_dim * (self.scale_factor**2))\n",
    "        x = x.permute(0, 2, 1, 3)\n",
    "        x = x.reshape(bsz, int(seq / (self.scale_factor**2)), embed_dim * (self.scale_factor**2))\n",
    "        return x\n",
    "\n",
    "    def forward(self, x):\n",
    "        batch, num_images, seq_len, dim = x.shape\n",
    "        x = x.view(batch*num_images, seq_len, dim)\n",
    "        x = self.pixel_shuffle(x)\n",
    "        x = self.v_proj(x)\n",
    "        x = x.view(batch, num_images, x.size(1), dim)\n",
    "        return x"
   ]
  },
  {
   "cell_type": "code",
   "execution_count": 36,
   "metadata": {},
   "outputs": [
    {
     "data": {
      "text/plain": [
       "torch.Size([1, 3, 49, 768])"
      ]
     },
     "execution_count": 36,
     "metadata": {},
     "output_type": "execute_result"
    }
   ],
   "source": [
    "vp = VisionProjector(768,2)\n",
    "images = vp(torch.rand(1,3,196,768))\n",
    "images.shape"
   ]
  },
  {
   "cell_type": "code",
   "execution_count": 17,
   "metadata": {},
   "outputs": [
    {
     "data": {
      "text/plain": [
       "[torch.Size([1, 49, 768]), torch.Size([1, 49, 768]), torch.Size([1, 49, 768])]"
      ]
     },
     "execution_count": 17,
     "metadata": {},
     "output_type": "execute_result"
    }
   ],
   "source": [
    "images2 = torch.unbind(images,1)\n",
    "[i.shape for i in images2]"
   ]
  },
  {
   "cell_type": "code",
   "execution_count": 14,
   "metadata": {},
   "outputs": [],
   "source": [
    "import torch"
   ]
  },
  {
   "cell_type": "code",
   "execution_count": 33,
   "metadata": {},
   "outputs": [
    {
     "data": {
      "text/plain": [
       "147"
      ]
     },
     "execution_count": 33,
     "metadata": {},
     "output_type": "execute_result"
    }
   ],
   "source": [
    "inputs = torch.randint(0,2000,(1,300)).long()\n",
    "input_embeddings = torch.zeros(1,300,768)\n",
    "positions = [*list(range(2,2+49)),*list(range(88,88+49)),*list(range(230,230+49))]\n",
    "len(positions)"
   ]
  },
  {
   "cell_type": "code",
   "execution_count": 34,
   "metadata": {},
   "outputs": [],
   "source": [
    "inputs[:,positions] = 5678\n",
    "image_mask = inputs == 5678"
   ]
  },
  {
   "cell_type": "code",
   "execution_count": 37,
   "metadata": {},
   "outputs": [
    {
     "data": {
      "text/plain": [
       "torch.Size([1, 147, 768])"
      ]
     },
     "execution_count": 37,
     "metadata": {},
     "output_type": "execute_result"
    }
   ],
   "source": [
    "images = images.flatten(1,2)\n",
    "images.shape"
   ]
  },
  {
   "cell_type": "code",
   "execution_count": 38,
   "metadata": {},
   "outputs": [],
   "source": [
    "input_embeddings[:,positions,:] = images"
   ]
  },
  {
   "cell_type": "code",
   "execution_count": 41,
   "metadata": {},
   "outputs": [
    {
     "name": "stdout",
     "output_type": "stream",
     "text": [
      "[2, 3, 4, 5, 6, 7, 8, 9, 10, 11, 12, 13, 14, 15, 16, 17, 18, 19, 20, 21, 22, 23, 24, 25, 26, 27, 28, 29, 30, 31, 32, 33, 34, 35, 36, 37, 38, 39, 40, 41, 42, 43, 44, 45, 46, 47, 48, 49, 50, 88, 89, 90, 91, 92, 93, 94, 95, 96, 97, 98, 99, 100, 101, 102, 103, 104, 105, 106, 107, 108, 109, 110, 111, 112, 113, 114, 115, 116, 117, 118, 119, 120, 121, 122, 123, 124, 125, 126, 127, 128, 129, 130, 131, 132, 133, 134, 135, 136, 230, 231, 232, 233, 234, 235, 236, 237, 238, 239, 240, 241, 242, 243, 244, 245, 246, 247, 248, 249, 250, 251, 252, 253, 254, 255, 256, 257, 258, 259, 260, 261, 262, 263, 264, 265, 266, 267, 268, 269, 270, 271, 272, 273, 274, 275, 276, 277, 278]\n"
     ]
    }
   ],
   "source": [
    "print(positions)"
   ]
  }
 ],
 "metadata": {
  "kernelspec": {
   "display_name": "Python 3 (ipykernel)",
   "language": "python",
   "name": "python3"
  },
  "language_info": {
   "codemirror_mode": {
    "name": "ipython",
    "version": 3
   },
   "file_extension": ".py",
   "mimetype": "text/x-python",
   "name": "python",
   "nbconvert_exporter": "python",
   "pygments_lexer": "ipython3",
   "version": "3.11.11"
  }
 },
 "nbformat": 4,
 "nbformat_minor": 4
}
