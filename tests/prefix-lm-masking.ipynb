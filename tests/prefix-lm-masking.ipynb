{
 "cells": [
  {
   "cell_type": "code",
   "execution_count": 8,
   "id": "d05ecc95-5c2b-46b9-a0b9-6b3ce4bb17d7",
   "metadata": {},
   "outputs": [],
   "source": [
    "import torch\n",
    "import torch.nn as nn\n",
    "import torch.nn.functional as F\n",
    "torch.set_printoptions(linewidth=120)"
   ]
  },
  {
   "cell_type": "code",
   "execution_count": 3,
   "id": "833d2b68-48be-4847-9993-020605eba175",
   "metadata": {},
   "outputs": [],
   "source": [
    "def create_causal_mask(seq_length):\n",
    "    mask = torch.tril(torch.ones(seq_length, seq_length))\n",
    "    \n",
    "    mask_bool = mask.bool()\n",
    "    \n",
    "    return mask_bool"
   ]
  },
  {
   "cell_type": "code",
   "execution_count": 4,
   "id": "58e98e0d-0de0-4eed-9ec1-67a078624af0",
   "metadata": {},
   "outputs": [
    {
     "data": {
      "text/plain": [
       "tensor([[ True, False, False, False, False, False, False, False],\n",
       "        [ True,  True, False, False, False, False, False, False],\n",
       "        [ True,  True,  True, False, False, False, False, False],\n",
       "        [ True,  True,  True,  True, False, False, False, False],\n",
       "        [ True,  True,  True,  True,  True, False, False, False],\n",
       "        [ True,  True,  True,  True,  True,  True, False, False],\n",
       "        [ True,  True,  True,  True,  True,  True,  True, False],\n",
       "        [ True,  True,  True,  True,  True,  True,  True,  True]])"
      ]
     },
     "execution_count": 4,
     "metadata": {},
     "output_type": "execute_result"
    }
   ],
   "source": [
    "create_causal_mask(8)"
   ]
  },
  {
   "cell_type": "code",
   "execution_count": 5,
   "id": "2b5cea8d-73fd-40ac-8e5d-7997733d4f5d",
   "metadata": {},
   "outputs": [],
   "source": [
    "def create_prefix_lm_mask(seq_length, prefix_length):\n",
    "    \"\"\"\n",
    "    Creates a PrefixLM attention mask.\n",
    "    \n",
    "    Args:\n",
    "        seq_length: Total length of the sequence (prefix + target)\n",
    "        prefix_length: Length of the prefix portion\n",
    "        \n",
    "    Returns:\n",
    "        A boolean mask where True allows attention and False blocks it\n",
    "    \"\"\"\n",
    "    # Start with a zeros tensor (default: no attention allowed)\n",
    "    mask = torch.zeros(seq_length, seq_length, dtype=torch.bool)\n",
    "    \n",
    "    # Block 1: Prefix can attend to all prefix tokens (full attention)\n",
    "    mask[:prefix_length, :prefix_length] = True\n",
    "    \n",
    "    # Block 2: Target can attend to all prefix tokens\n",
    "    mask[prefix_length:, :prefix_length] = True\n",
    "    \n",
    "    # Block 3: Target follows causal attention pattern\n",
    "    causal_part = torch.tril(torch.ones(seq_length - prefix_length, \n",
    "                                        seq_length - prefix_length, \n",
    "                                        dtype=torch.bool))\n",
    "    mask[prefix_length:, prefix_length:] = causal_part\n",
    "    \n",
    "    return mask"
   ]
  },
  {
   "cell_type": "code",
   "execution_count": 10,
   "id": "663c7abf-7c62-445f-9d0c-bd48324217ad",
   "metadata": {},
   "outputs": [
    {
     "data": {
      "text/plain": [
       "tensor([[1, 1, 1, 1, 1, 0, 0, 0, 0, 0, 0, 0],\n",
       "        [1, 1, 1, 1, 1, 0, 0, 0, 0, 0, 0, 0],\n",
       "        [1, 1, 1, 1, 1, 0, 0, 0, 0, 0, 0, 0],\n",
       "        [1, 1, 1, 1, 1, 0, 0, 0, 0, 0, 0, 0],\n",
       "        [1, 1, 1, 1, 1, 0, 0, 0, 0, 0, 0, 0],\n",
       "        [1, 1, 1, 1, 1, 1, 0, 0, 0, 0, 0, 0],\n",
       "        [1, 1, 1, 1, 1, 1, 1, 0, 0, 0, 0, 0],\n",
       "        [1, 1, 1, 1, 1, 1, 1, 1, 0, 0, 0, 0],\n",
       "        [1, 1, 1, 1, 1, 1, 1, 1, 1, 0, 0, 0],\n",
       "        [1, 1, 1, 1, 1, 1, 1, 1, 1, 1, 0, 0],\n",
       "        [1, 1, 1, 1, 1, 1, 1, 1, 1, 1, 1, 0],\n",
       "        [1, 1, 1, 1, 1, 1, 1, 1, 1, 1, 1, 1]])"
      ]
     },
     "execution_count": 10,
     "metadata": {},
     "output_type": "execute_result"
    }
   ],
   "source": [
    "create_prefix_lm_mask(12,5).long()"
   ]
  },
  {
   "cell_type": "code",
   "execution_count": 11,
   "id": "ce9dc12f-8160-49a0-913c-04543bff5825",
   "metadata": {},
   "outputs": [
    {
     "data": {
      "text/plain": [
       "tensor([[1, 0, 0, 0, 0, 0, 0, 0, 0, 0, 0, 0],\n",
       "        [1, 1, 0, 0, 0, 0, 0, 0, 0, 0, 0, 0],\n",
       "        [1, 1, 1, 0, 0, 0, 0, 0, 0, 0, 0, 0],\n",
       "        [1, 1, 1, 1, 0, 0, 0, 0, 0, 0, 0, 0],\n",
       "        [1, 1, 1, 1, 1, 0, 0, 0, 0, 0, 0, 0],\n",
       "        [1, 1, 1, 1, 1, 1, 0, 0, 0, 0, 0, 0],\n",
       "        [1, 1, 1, 1, 1, 1, 1, 0, 0, 0, 0, 0],\n",
       "        [1, 1, 1, 1, 1, 1, 1, 1, 0, 0, 0, 0],\n",
       "        [1, 1, 1, 1, 1, 1, 1, 1, 1, 0, 0, 0],\n",
       "        [1, 1, 1, 1, 1, 1, 1, 1, 1, 1, 0, 0],\n",
       "        [1, 1, 1, 1, 1, 1, 1, 1, 1, 1, 1, 0],\n",
       "        [1, 1, 1, 1, 1, 1, 1, 1, 1, 1, 1, 1]])"
      ]
     },
     "execution_count": 11,
     "metadata": {},
     "output_type": "execute_result"
    }
   ],
   "source": [
    "create_causal_mask(12).long()"
   ]
  },
  {
   "cell_type": "code",
   "execution_count": 12,
   "id": "fe1b5e02-ee55-45b9-99c5-5942e5bfa612",
   "metadata": {},
   "outputs": [],
   "source": [
    "import matplotlib.pyplot as plt"
   ]
  },
  {
   "cell_type": "code",
   "execution_count": 15,
   "id": "f52b1f29-eb30-4253-9372-860466cee571",
   "metadata": {},
   "outputs": [
    {
     "data": {
      "text/plain": [
       "<matplotlib.image.AxesImage at 0x7f45a9a04250>"
      ]
     },
     "execution_count": 15,
     "metadata": {},
     "output_type": "execute_result"
    },
    {
     "data": {
      "image/png": "[encoded data removed]",
      "text/plain": [
       "<Figure size 640x480 with 1 Axes>"
      ]
     },
     "metadata": {},
     "output_type": "display_data"
    }
   ],
   "source": [
    "plt.imshow(create_causal_mask(12), cmap='gray')"
   ]
  },
  {
   "cell_type": "code",
   "execution_count": 16,
   "id": "49f4a05c-34ad-42d9-badd-326c45db2c9a",
   "metadata": {},
   "outputs": [
    {
     "data": {
      "text/plain": [
       "<matplotlib.image.AxesImage at 0x7f45a8fadf50>"
      ]
     },
     "execution_count": 16,
     "metadata": {},
     "output_type": "execute_result"
    },
    {
     "data": {
      "image/png": "[encoded data removed]",
      "text/plain": [
       "<Figure size 640x480 with 1 Axes>"
      ]
     },
     "metadata": {},
     "output_type": "display_data"
    }
   ],
   "source": [
    "plt.imshow(create_prefix_lm_mask(12,5), cmap='gray')"
   ]
  },
  {
   "cell_type": "code",
   "execution_count": 20,
   "id": "76f5e1a9-42a0-4082-a755-779a71b5e065",
   "metadata": {},
   "outputs": [],
   "source": [
    "cm = create_causal_mask(12).long()"
   ]
  },
  {
   "cell_type": "code",
   "execution_count": 25,
   "id": "fd4e0088-10ac-4627-bb5d-68f1e1856733",
   "metadata": {},
   "outputs": [
    {
     "data": {
      "text/plain": [
       "tensor([[1, 0, 0, 0, 0, 0],\n",
       "        [1, 1, 0, 0, 0, 0],\n",
       "        [1, 1, 1, 0, 0, 0],\n",
       "        [1, 1, 1, 1, 0, 0],\n",
       "        [1, 1, 1, 1, 1, 0],\n",
       "        [1, 1, 1, 1, 1, 1]])"
      ]
     },
     "execution_count": 25,
     "metadata": {},
     "output_type": "execute_result"
    }
   ],
   "source": [
    "cm[:6,:6]"
   ]
  },
  {
   "cell_type": "code",
   "execution_count": 22,
   "id": "95fbc31b-4af4-4559-ad06-e44282f2ab86",
   "metadata": {},
   "outputs": [],
   "source": [
    "pm = create_prefix_lm_mask(12,5).long()"
   ]
  },
  {
   "cell_type": "code",
   "execution_count": 26,
   "id": "b2641e34-f63d-42d8-81fd-78f5fa1172c0",
   "metadata": {},
   "outputs": [
    {
     "data": {
      "text/plain": [
       "tensor([[1, 1, 1, 1, 1, 0],\n",
       "        [1, 1, 1, 1, 1, 0],\n",
       "        [1, 1, 1, 1, 1, 0],\n",
       "        [1, 1, 1, 1, 1, 0],\n",
       "        [1, 1, 1, 1, 1, 0],\n",
       "        [1, 1, 1, 1, 1, 1]])"
      ]
     },
     "execution_count": 26,
     "metadata": {},
     "output_type": "execute_result"
    }
   ],
   "source": [
    "pm[:6,:6]"
   ]
  },
  {
   "cell_type": "code",
   "execution_count": 27,
   "id": "263c8f76-97e6-4bb9-bfba-11e5a88404b5",
   "metadata": {},
   "outputs": [
    {
     "data": {
      "text/plain": [
       "tensor([[1, 0, 0, 0, 0, 0],\n",
       "        [1, 1, 0, 0, 0, 0],\n",
       "        [1, 1, 1, 0, 0, 0],\n",
       "        [1, 1, 1, 1, 0, 0],\n",
       "        [1, 1, 1, 1, 1, 0],\n",
       "        [1, 1, 1, 1, 1, 1]])"
      ]
     },
     "execution_count": 27,
     "metadata": {},
     "output_type": "execute_result"
    }
   ],
   "source": [
    "cm = create_causal_mask(100).long()\n",
    "cm[:6,:6]"
   ]
  },
  {
   "cell_type": "code",
   "execution_count": 28,
   "id": "4eab59c7-38b7-4d97-9bc4-83e31a133311",
   "metadata": {},
   "outputs": [],
   "source": [
    "class Processor:\n",
    "    def __init__(self, tokenizer_path, num_image_tokens=256):\n",
    "        self.tokenizer_path = tokenizer_path\n",
    "        self.image_size = 512\n",
    "        self.num_image_tokens = 256\n",
    "        self.tokenizer = AutoTokenizer.from_pretrained(self.tokenizer_path)\n",
    "        self.new_chat_template = \"{% for message in messages %}{% if loop.first and messages[0]['role'] != 'system' %}{{ '<|im_start|>system\\nYou are a helpful multimodal AI assistant named simpleVLM, built by shreydan.<|im_end|>\\n\\nAnswer based on the image context:\\n<|start_of_image|><|image_token|><|end_of_image|>\\n' }}{% endif %}{{'<|im_start|>' + message['role'] + '\\n' + message['content'] + '<|im_end|>' + '\\n'}}{% endfor %}{% if add_generation_prompt %}{{ '<|im_start|>assistant\\n' }}{% endif %}\"\n",
    "        self.tokenizer.chat_template = self.new_chat_template\n",
    "        \n",
    "        self.img_mean = [0.5,0.5,0.5]\n",
    "        self.img_std = [0.5,0.5,0.5]\n",
    "        self.img_transforms = T.Compose([\n",
    "            T.Resize((self.image_size, self.image_size)),\n",
    "            T.ToTensor(),\n",
    "            T.Normalize(mean=self.img_mean, std=self.img_std)\n",
    "        ])\n",
    "\n",
    "    def preprocess_image(self, sample):\n",
    "        image = sample['image']\n",
    "        return self.img_transforms(image.convert('RGB'))\n",
    "    \n",
    "    def apply_chat_template(self, sample, use_system_prompt=True):\n",
    "        text = sample['text']\n",
    "        chat_text = self.tokenizer.apply_chat_template(\n",
    "            text, \n",
    "            tokenize=False\n",
    "        )\n",
    "        chat_text = chat_text.replace('<|image_token|>','<|image_token|>'*self.num_image_tokens)\n",
    "        return chat_text\n",
    "\n",
    "    def __call__(self, sample):\n",
    "        text = self.apply_chat_template(sample)\n",
    "        image = self.preprocess_image(sample)\n",
    "        input_ids = self.tokenizer.encode(text,return_tensors='pt',truncation=True,max_length=1024)\n",
    "        return {\n",
    "            'input_ids': input_ids,\n",
    "            'pixel_values': image.unsqueeze(0)\n",
    "        }"
   ]
  },
  {
   "cell_type": "code",
   "execution_count": 34,
   "id": "d4b688d2-cd37-4061-a563-cc47094a0445",
   "metadata": {},
   "outputs": [],
   "source": [
    "from transformers import AutoTokenizer\n",
    "import torchvision.transforms as T\n",
    "processor = Processor('../simpleVLM/')"
   ]
  },
  {
   "cell_type": "code",
   "execution_count": 36,
   "id": "aaf78ccd-98fa-4bea-878e-2ea171a00103",
   "metadata": {},
   "outputs": [],
   "source": [
    "sample=[{'role':'user','content':''}]"
   ]
  },
  {
   "cell_type": "code",
   "execution_count": 38,
   "id": "4ec8ec0b-bd57-43cd-b0de-5f6ff780cb75",
   "metadata": {},
   "outputs": [
    {
     "data": {
      "text/plain": [
       "'<|im_start|>system\\nYou are a helpful multimodal AI assistant named simpleVLM, built by shreydan.<|im_end|>\\n\\nAnswer based on the image context:\\n<|start_of_image|><|image_token|><|image_token|><|image_token|><|image_token|><|image_token|><|image_token|><|image_token|><|image_token|><|image_token|><|image_token|><|image_token|><|image_token|><|image_token|><|image_token|><|image_token|><|image_token|><|image_token|><|image_token|><|image_token|><|image_token|><|image_token|><|image_token|><|image_token|><|image_token|><|image_token|><|image_token|><|image_token|><|image_token|><|image_token|><|image_token|><|image_token|><|image_token|><|image_token|><|image_token|><|image_token|><|image_token|><|image_token|><|image_token|><|image_token|><|image_token|><|image_token|><|image_token|><|image_token|><|image_token|><|image_token|><|image_token|><|image_token|><|image_token|><|image_token|><|image_token|><|image_token|><|image_token|><|image_token|><|image_token|><|image_token|><|image_token|><|image_token|><|image_token|><|image_token|><|image_token|><|image_token|><|image_token|><|image_token|><|image_token|><|image_token|><|image_token|><|image_token|><|image_token|><|image_token|><|image_token|><|image_token|><|image_token|><|image_token|><|image_token|><|image_token|><|image_token|><|image_token|><|image_token|><|image_token|><|image_token|><|image_token|><|image_token|><|image_token|><|image_token|><|image_token|><|image_token|><|image_token|><|image_token|><|image_token|><|image_token|><|image_token|><|image_token|><|image_token|><|image_token|><|image_token|><|image_token|><|image_token|><|image_token|><|image_token|><|image_token|><|image_token|><|image_token|><|image_token|><|image_token|><|image_token|><|image_token|><|image_token|><|image_token|><|image_token|><|image_token|><|image_token|><|image_token|><|image_token|><|image_token|><|image_token|><|image_token|><|image_token|><|image_token|><|image_token|><|image_token|><|image_token|><|image_token|><|image_token|><|image_token|><|image_token|><|image_token|><|image_token|><|image_token|><|image_token|><|image_token|><|image_token|><|image_token|><|image_token|><|image_token|><|image_token|><|image_token|><|image_token|><|image_token|><|image_token|><|image_token|><|image_token|><|image_token|><|image_token|><|image_token|><|image_token|><|image_token|><|image_token|><|image_token|><|image_token|><|image_token|><|image_token|><|image_token|><|image_token|><|image_token|><|image_token|><|image_token|><|image_token|><|image_token|><|image_token|><|image_token|><|image_token|><|image_token|><|image_token|><|image_token|><|image_token|><|image_token|><|image_token|><|image_token|><|image_token|><|image_token|><|image_token|><|image_token|><|image_token|><|image_token|><|image_token|><|image_token|><|image_token|><|image_token|><|image_token|><|image_token|><|image_token|><|image_token|><|image_token|><|image_token|><|image_token|><|image_token|><|image_token|><|image_token|><|image_token|><|image_token|><|image_token|><|image_token|><|image_token|><|image_token|><|image_token|><|image_token|><|image_token|><|image_token|><|image_token|><|image_token|><|image_token|><|image_token|><|image_token|><|image_token|><|image_token|><|image_token|><|image_token|><|image_token|><|image_token|><|image_token|><|image_token|><|image_token|><|image_token|><|image_token|><|image_token|><|image_token|><|image_token|><|image_token|><|image_token|><|image_token|><|image_token|><|image_token|><|image_token|><|image_token|><|image_token|><|image_token|><|image_token|><|image_token|><|image_token|><|image_token|><|image_token|><|image_token|><|image_token|><|image_token|><|image_token|><|image_token|><|image_token|><|image_token|><|image_token|><|image_token|><|image_token|><|image_token|><|image_token|><|image_token|><|image_token|><|image_token|><|image_token|><|image_token|><|image_token|><|image_token|><|image_token|><|image_token|><|image_token|><|image_token|><|image_token|><|image_token|><|end_of_image|>\\n<|im_start|>user\\n<|im_end|>\\n'"
      ]
     },
     "execution_count": 38,
     "metadata": {},
     "output_type": "execute_result"
    }
   ],
   "source": [
    "processor.apply_chat_template({'text':sample})"
   ]
  },
  {
   "cell_type": "code",
   "execution_count": 41,
   "id": "69f74a6d-0eeb-4138-9705-7251e62a2273",
   "metadata": {},
   "outputs": [],
   "source": [
    "tokenized = processor.tokenizer(processor.apply_chat_template({'text':sample}))['input_ids']"
   ]
  },
  {
   "cell_type": "code",
   "execution_count": 44,
   "id": "c5258500-84cf-4b38-a733-1992bcdb6ede",
   "metadata": {},
   "outputs": [
    {
     "name": "stdout",
     "output_type": "stream",
     "text": [
      "[1, 9690, 198, 2683, 359, 253, 5356, 37063, 32058, 5646, 11173, 3365, 2232, 70, 34519, 28, 2837, 411, 443, 257, 4198, 276, 30, 2, 198, 198, 21350, 1552, 335, 260, 2443, 2468, 42, 198, 49152, 49154, 49154, 49154, 49154, 49154, 49154, 49154, 49154, 49154, 49154, 49154, 49154, 49154, 49154, 49154, 49154, 49154, 49154, 49154, 49154, 49154, 49154, 49154, 49154, 49154, 49154, 49154, 49154, 49154, 49154, 49154, 49154, 49154, 49154, 49154, 49154, 49154, 49154, 49154, 49154, 49154, 49154, 49154, 49154, 49154, 49154, 49154, 49154, 49154, 49154, 49154, 49154, 49154, 49154, 49154, 49154, 49154, 49154, 49154, 49154, 49154, 49154, 49154, 49154, 49154, 49154, 49154, 49154, 49154, 49154, 49154, 49154, 49154, 49154, 49154, 49154, 49154, 49154, 49154, 49154, 49154, 49154, 49154, 49154, 49154, 49154, 49154, 49154, 49154, 49154, 49154, 49154, 49154, 49154, 49154, 49154, 49154, 49154, 49154, 49154, 49154, 49154, 49154, 49154, 49154, 49154, 49154, 49154, 49154, 49154, 49154, 49154, 49154, 49154, 49154, 49154, 49154, 49154, 49154, 49154, 49154, 49154, 49154, 49154, 49154, 49154, 49154, 49154, 49154, 49154, 49154, 49154, 49154, 49154, 49154, 49154, 49154, 49154, 49154, 49154, 49154, 49154, 49154, 49154, 49154, 49154, 49154, 49154, 49154, 49154, 49154, 49154, 49154, 49154, 49154, 49154, 49154, 49154, 49154, 49154, 49154, 49154, 49154, 49154, 49154, 49154, 49154, 49154, 49154, 49154, 49154, 49154, 49154, 49154, 49154, 49154, 49154, 49154, 49154, 49154, 49154, 49154, 49154, 49154, 49154, 49154, 49154, 49154, 49154, 49154, 49154, 49154, 49154, 49154, 49154, 49154, 49154, 49154, 49154, 49154, 49154, 49154, 49154, 49154, 49154, 49154, 49154, 49154, 49154, 49154, 49154, 49154, 49154, 49154, 49154, 49154, 49154, 49154, 49154, 49154, 49154, 49154, 49154, 49154, 49154, 49154, 49154, 49154, 49154, 49154, 49154, 49154, 49154, 49154, 49154, 49154, 49154, 49154, 49154, 49154, 49154, 49154, 49154, 49154, 49154, 49154, 49154, 49154, 49154, 49154, 49154, 49154, 49154, 49154, 49154, 49154, 49153, 198, 1, 4093, 198, 2, 198] 291\n"
     ]
    }
   ],
   "source": [
    "print(tokenized, tokenized.index(49153))"
   ]
  },
  {
   "cell_type": "code",
   "execution_count": 48,
   "id": "293e8b24-c7ae-4b3b-9f5c-2d7bd1f48004",
   "metadata": {},
   "outputs": [],
   "source": [
    "prefix_length = 292"
   ]
  },
  {
   "cell_type": "code",
   "execution_count": 50,
   "id": "d16d44a3-bae8-4722-b75f-7cadeb7ced08",
   "metadata": {},
   "outputs": [
    {
     "data": {
      "text/plain": [
       "'<|im_start|>system\\nYou are a helpful multimodal AI assistant named simpleVLM, built by shreydan.<|im_end|>\\n\\nAnswer based on the image context:\\n<|start_of_image|><|image_token|><|image_token|><|image_token|><|image_token|><|image_token|><|image_token|><|image_token|><|image_token|><|image_token|><|image_token|><|image_token|><|image_token|><|image_token|><|image_token|><|image_token|><|image_token|><|image_token|><|image_token|><|image_token|><|image_token|><|image_token|><|image_token|><|image_token|><|image_token|><|image_token|><|image_token|><|image_token|><|image_token|><|image_token|><|image_token|><|image_token|><|image_token|><|image_token|><|image_token|><|image_token|><|image_token|><|image_token|><|image_token|><|image_token|><|image_token|><|image_token|><|image_token|><|image_token|><|image_token|><|image_token|><|image_token|><|image_token|><|image_token|><|image_token|><|image_token|><|image_token|><|image_token|><|image_token|><|image_token|><|image_token|><|image_token|><|image_token|><|image_token|><|image_token|><|image_token|><|image_token|><|image_token|><|image_token|><|image_token|><|image_token|><|image_token|><|image_token|><|image_token|><|image_token|><|image_token|><|image_token|><|image_token|><|image_token|><|image_token|><|image_token|><|image_token|><|image_token|><|image_token|><|image_token|><|image_token|><|image_token|><|image_token|><|image_token|><|image_token|><|image_token|><|image_token|><|image_token|><|image_token|><|image_token|><|image_token|><|image_token|><|image_token|><|image_token|><|image_token|><|image_token|><|image_token|><|image_token|><|image_token|><|image_token|><|image_token|><|image_token|><|image_token|><|image_token|><|image_token|><|image_token|><|image_token|><|image_token|><|image_token|><|image_token|><|image_token|><|image_token|><|image_token|><|image_token|><|image_token|><|image_token|><|image_token|><|image_token|><|image_token|><|image_token|><|image_token|><|image_token|><|image_token|><|image_token|><|image_token|><|image_token|><|image_token|><|image_token|><|image_token|><|image_token|><|image_token|><|image_token|><|image_token|><|image_token|><|image_token|><|image_token|><|image_token|><|image_token|><|image_token|><|image_token|><|image_token|><|image_token|><|image_token|><|image_token|><|image_token|><|image_token|><|image_token|><|image_token|><|image_token|><|image_token|><|image_token|><|image_token|><|image_token|><|image_token|><|image_token|><|image_token|><|image_token|><|image_token|><|image_token|><|image_token|><|image_token|><|image_token|><|image_token|><|image_token|><|image_token|><|image_token|><|image_token|><|image_token|><|image_token|><|image_token|><|image_token|><|image_token|><|image_token|><|image_token|><|image_token|><|image_token|><|image_token|><|image_token|><|image_token|><|image_token|><|image_token|><|image_token|><|image_token|><|image_token|><|image_token|><|image_token|><|image_token|><|image_token|><|image_token|><|image_token|><|image_token|><|image_token|><|image_token|><|image_token|><|image_token|><|image_token|><|image_token|><|image_token|><|image_token|><|image_token|><|image_token|><|image_token|><|image_token|><|image_token|><|image_token|><|image_token|><|image_token|><|image_token|><|image_token|><|image_token|><|image_token|><|image_token|><|image_token|><|image_token|><|image_token|><|image_token|><|image_token|><|image_token|><|image_token|><|image_token|><|image_token|><|image_token|><|image_token|><|image_token|><|image_token|><|image_token|><|image_token|><|image_token|><|image_token|><|image_token|><|image_token|><|image_token|><|image_token|><|image_token|><|image_token|><|image_token|><|image_token|><|image_token|><|image_token|><|image_token|><|image_token|><|image_token|><|image_token|><|image_token|><|image_token|><|image_token|><|image_token|><|image_token|><|image_token|><|image_token|><|image_token|><|image_token|><|image_token|><|image_token|><|image_token|><|image_token|><|image_token|><|end_of_image|>'"
      ]
     },
     "execution_count": 50,
     "metadata": {},
     "output_type": "execute_result"
    }
   ],
   "source": [
    "processor.tokenizer.decode(tokenized[:prefix_length])"
   ]
  },
  {
   "cell_type": "code",
   "execution_count": 1,
   "id": "88ab232c-7781-444f-81de-52645a535bd2",
   "metadata": {},
   "outputs": [],
   "source": [
    "def prepare_prefix_lm_mask(max_seq_len, prefix_len):\n",
    "    causal_mask = torch.triu(torch.ones(max_seq_len, max_seq_len),diagonal=1)\n",
    "    return causal_mask"
   ]
  },
  {
   "cell_type": "code",
   "execution_count": 2,
   "id": "b450c8d1-35ef-4ffd-9a47-b125803a7c6e",
   "metadata": {},
   "outputs": [
    {
     "ename": "NameError",
     "evalue": "name 'torch' is not defined",
     "output_type": "error",
     "traceback": [
      "\u001b[31m---------------------------------------------------------------------------\u001b[39m",
      "\u001b[31mNameError\u001b[39m                                 Traceback (most recent call last)",
      "\u001b[36mCell\u001b[39m\u001b[36m \u001b[39m\u001b[32mIn[2]\u001b[39m\u001b[32m, line 1\u001b[39m\n\u001b[32m----> \u001b[39m\u001b[32m1\u001b[39m \u001b[43mprepare_prefix_lm_mask\u001b[49m\u001b[43m(\u001b[49m\u001b[32;43m12\u001b[39;49m\u001b[43m,\u001b[49m\u001b[32;43m5\u001b[39;49m\u001b[43m)\u001b[49m.long()\n",
      "\u001b[36mCell\u001b[39m\u001b[36m \u001b[39m\u001b[32mIn[1]\u001b[39m\u001b[32m, line 2\u001b[39m, in \u001b[36mprepare_prefix_lm_mask\u001b[39m\u001b[34m(max_seq_len, prefix_len)\u001b[39m\n\u001b[32m      1\u001b[39m \u001b[38;5;28;01mdef\u001b[39;00m\u001b[38;5;250m \u001b[39m\u001b[34mprepare_prefix_lm_mask\u001b[39m(max_seq_len, prefix_len):\n\u001b[32m----> \u001b[39m\u001b[32m2\u001b[39m     causal_mask = \u001b[43mtorch\u001b[49m.triu(torch.ones(max_seq_len, max_seq_len),diagonal=\u001b[32m1\u001b[39m)\n\u001b[32m      3\u001b[39m     \u001b[38;5;28;01mreturn\u001b[39;00m causal_mask\n",
      "\u001b[31mNameError\u001b[39m: name 'torch' is not defined"
     ]
    }
   ],
   "source": [
    "prepare_prefix_lm_mask(12,5).long()"
   ]
  },
  {
   "cell_type": "code",
   "execution_count": null,
   "id": "dc12a8d0-1296-45ab-892c-96ae8efa2ce0",
   "metadata": {},
   "outputs": [],
   "source": []
  }
 ],
 "metadata": {
  "kernelspec": {
   "display_name": "Python 3 (ipykernel)",
   "language": "python",
   "name": "python3"
  },
  "language_info": {
   "codemirror_mode": {
    "name": "ipython",
    "version": 3
   },
   "file_extension": ".py",
   "mimetype": "text/x-python",
   "name": "python",
   "nbconvert_exporter": "python",
   "pygments_lexer": "ipython3",
   "version": "3.11.11"
  }
 },
 "nbformat": 4,
 "nbformat_minor": 5
}
