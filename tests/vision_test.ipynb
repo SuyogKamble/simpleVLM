{
 "cells": [
  {
   "cell_type": "code",
   "execution_count": 20,
   "id": "fa19e74b-799b-42d5-a019-9a348fe8092a",
   "metadata": {},
   "outputs": [],
   "source": [
    "import torch\n",
    "import torch.nn as nn\n",
    "from transformers import SiglipVisionModel\n",
    "from einops.layers.torch import Rearrange\n",
    "from einops import rearrange,reduce"
   ]
  },
  {
   "cell_type": "code",
   "execution_count": 9,
   "id": "0bade53d-2d85-4c30-949a-553974644f55",
   "metadata": {},
   "outputs": [],
   "source": [
    "base_model = SiglipVisionModel.from_pretrained('google/siglip2-base-patch16-512')"
   ]
  },
  {
   "cell_type": "code",
   "execution_count": 11,
   "id": "b1beb29c-ad49-47bf-a5ab-5623a707481a",
   "metadata": {},
   "outputs": [
    {
     "data": {
      "text/plain": [
       "93520128"
      ]
     },
     "execution_count": 11,
     "metadata": {},
     "output_type": "execute_result"
    }
   ],
   "source": [
    "sum(p.numel() for p in base_model.parameters())"
   ]
  },
  {
   "cell_type": "code",
   "execution_count": 13,
   "id": "f7d443dd-cdd0-433d-ae32-e69ea1c6b352",
   "metadata": {},
   "outputs": [
    {
     "data": {
      "text/plain": [
       "torch.Size([1, 1024, 768])"
      ]
     },
     "execution_count": 13,
     "metadata": {},
     "output_type": "execute_result"
    }
   ],
   "source": [
    "base_model(torch.rand(1,3,512,512)).last_hidden_state.shape"
   ]
  },
  {
   "cell_type": "code",
   "execution_count": 50,
   "id": "92152bf8-6063-41d4-aedb-458c5e19422e",
   "metadata": {},
   "outputs": [],
   "source": [
    "def pixel_shuffle_idefics(x, scale_factor=2):\n",
    "    bsz, seq, embed_dim = x.size()\n",
    "    i=[]\n",
    "    print('idefics')\n",
    "    height = width = int(seq**0.5)\n",
    "    x = x.view(bsz, height, width, embed_dim)\n",
    "    i.append(x)\n",
    "    print(x.shape)\n",
    "    x = x.view(bsz, height, int(width / scale_factor), embed_dim * scale_factor)\n",
    "    print(x.shape)\n",
    "    i.append(x)\n",
    "    x = x.permute(0, 2, 1, 3)\n",
    "    print(x.shape)\n",
    "    i.append(x)\n",
    "    x = x.reshape(bsz, int(width / scale_factor), int(height / scale_factor), embed_dim * (scale_factor**2))\n",
    "    print(x.shape)\n",
    "    i.append(x)\n",
    "    x = x.permute(0, 2, 1, 3)\n",
    "    print(x.shape)\n",
    "    i.append(x)\n",
    "    x = x.reshape(bsz, int(seq / (scale_factor**2)), embed_dim * (scale_factor**2))\n",
    "    print(x.shape)\n",
    "    i.append(x)\n",
    "    return x,i"
   ]
  },
  {
   "cell_type": "code",
   "execution_count": 51,
   "id": "45382b2a-d531-4fde-985a-54af8b9e14e1",
   "metadata": {},
   "outputs": [
    {
     "name": "stdout",
     "output_type": "stream",
     "text": [
      "idefics\n",
      "torch.Size([1, 32, 32, 768])\n",
      "torch.Size([1, 32, 16, 1536])\n",
      "torch.Size([1, 16, 32, 1536])\n",
      "torch.Size([1, 16, 16, 3072])\n",
      "torch.Size([1, 16, 16, 3072])\n",
      "torch.Size([1, 256, 3072])\n"
     ]
    },
    {
     "data": {
      "text/plain": [
       "torch.Size([1, 256, 3072])"
      ]
     },
     "execution_count": 51,
     "metadata": {},
     "output_type": "execute_result"
    }
   ],
   "source": [
    "pixel_shuffle_idefics(torch.rand(1,1024,768))[0].shape"
   ]
  },
  {
   "cell_type": "code",
   "execution_count": 18,
   "id": "4845a8ef-dfad-4ced-a41d-ab2e3fd0a292",
   "metadata": {},
   "outputs": [],
   "source": [
    "x=torch.rand(1,1024,768)"
   ]
  },
  {
   "cell_type": "code",
   "execution_count": 26,
   "id": "072b4233-e9fb-4bee-99f6-cd8cceb98e50",
   "metadata": {},
   "outputs": [
    {
     "data": {
      "text/plain": [
       "torch.Size([1, 32, 32, 768])"
      ]
     },
     "execution_count": 26,
     "metadata": {},
     "output_type": "execute_result"
    }
   ],
   "source": [
    "h=w=int(1024**0.5)\n",
    "rearrange(x,'b (h w) d -> b h w d', h=w, w=w).shape"
   ]
  },
  {
   "cell_type": "code",
   "execution_count": 27,
   "id": "7e5adfe5-7658-4564-a084-723a20af3d2d",
   "metadata": {},
   "outputs": [
    {
     "data": {
      "text/plain": [
       "torch.Size([1, 32, 16, 1536])"
      ]
     },
     "execution_count": 27,
     "metadata": {},
     "output_type": "execute_result"
    }
   ],
   "source": [
    "x2=torch.rand(1, 32, 32, 768)\n",
    "rearrange(x2,'b h (w_s s) d -> b h w_s (s d)',w_s=w//2,s=2).shape"
   ]
  },
  {
   "cell_type": "code",
   "execution_count": 31,
   "id": "ba8b7390-ddca-4892-bdb9-c647900ffd7d",
   "metadata": {},
   "outputs": [
    {
     "data": {
      "text/plain": [
       "torch.Size([1, 16, 16, 3072])"
      ]
     },
     "execution_count": 31,
     "metadata": {},
     "output_type": "execute_result"
    }
   ],
   "source": [
    "x3=torch.rand(1, 32, 16, 1536).transpose(1,2)\n",
    "rearrange(x3,'b w_s (h_s s) d -> b w_s h_s (s d)',h_s=h//2,s=2).shape"
   ]
  },
  {
   "cell_type": "code",
   "execution_count": 35,
   "id": "f782e325-fc0b-4cc2-bb1c-6b85b3039f39",
   "metadata": {},
   "outputs": [
    {
     "data": {
      "text/plain": [
       "torch.Size([1, 256, 3072])"
      ]
     },
     "execution_count": 35,
     "metadata": {},
     "output_type": "execute_result"
    }
   ],
   "source": [
    "x4=torch.rand(1, 16, 16, 3072).transpose(1,2)\n",
    "rearrange(x4,'b h_s w_s d -> b (h_s w_s) d',h_s=h//2,w_s=w//2).shape"
   ]
  },
  {
   "cell_type": "code",
   "execution_count": 61,
   "id": "6ac7c17d-e36b-4a7f-ada7-e24ef16e4d36",
   "metadata": {},
   "outputs": [],
   "source": [
    "def pixel_shuffle_einops(x):\n",
    "    h = w = x.shape[1] ** 0.5\n",
    "    i = []\n",
    "    print('einops')\n",
    "    s = 2 # scale_factor\n",
    "    x = rearrange(x,'b (h w) d -> b h w d', h=w, w=w)\n",
    "    print(x.shape)\n",
    "    i.append(x)\n",
    "    x = rearrange(x,'b h (w_s s) d -> b h w_s (s d)',w_s=w//2,s=s)\n",
    "    print(x.shape)\n",
    "    i.append(x)\n",
    "    x = x.transpose(1,2)\n",
    "    print(x.shape)\n",
    "    i.append(x)\n",
    "    x = rearrange(x,'b w_s (h_s s) d -> b w_s h_s (s d)',h_s=h//2,s=s)\n",
    "    print(x.shape)\n",
    "    i.append(x)\n",
    "    x = x.transpose(1,2)\n",
    "    print(x.shape)\n",
    "    i.append(x)\n",
    "    x = x.flatten(1,2)\n",
    "    print(x.shape)\n",
    "    i.append(x)\n",
    "    return x,i"
   ]
  },
  {
   "cell_type": "code",
   "execution_count": 62,
   "id": "5fd3eee4-dfc5-439f-8c70-3658567077e4",
   "metadata": {},
   "outputs": [
    {
     "name": "stdout",
     "output_type": "stream",
     "text": [
      "idefics\n",
      "torch.Size([1, 32, 32, 768])\n",
      "torch.Size([1, 32, 16, 1536])\n",
      "torch.Size([1, 16, 32, 1536])\n",
      "torch.Size([1, 16, 16, 3072])\n",
      "torch.Size([1, 16, 16, 3072])\n",
      "torch.Size([1, 256, 3072])\n",
      "einops\n",
      "torch.Size([1, 32, 32, 768])\n",
      "torch.Size([1, 32, 16, 1536])\n",
      "torch.Size([1, 16, 32, 1536])\n",
      "torch.Size([1, 16, 16, 3072])\n",
      "torch.Size([1, 16, 16, 3072])\n",
      "torch.Size([1, 256, 3072])\n",
      "True\n",
      "----\n",
      "torch.Size([1, 32, 32, 768]) torch.Size([1, 32, 32, 768]) True\n",
      "torch.Size([1, 32, 16, 1536]) torch.Size([1, 32, 16, 1536]) True\n",
      "torch.Size([1, 16, 32, 1536]) torch.Size([1, 16, 32, 1536]) True\n",
      "torch.Size([1, 16, 16, 3072]) torch.Size([1, 16, 16, 3072]) True\n",
      "torch.Size([1, 16, 16, 3072]) torch.Size([1, 16, 16, 3072]) True\n",
      "torch.Size([1, 256, 3072]) torch.Size([1, 256, 3072]) True\n"
     ]
    }
   ],
   "source": [
    "x=torch.rand(1,1024,768)\n",
    "x1,i1 = pixel_shuffle_idefics(x.clone())\n",
    "x2,i2 = pixel_shuffle_einops(x.clone())\n",
    "print(torch.allclose(x1,x2))\n",
    "print('----')\n",
    "for a,b in zip(i1,i2):\n",
    "    print(a.shape, b.shape, torch.allclose(a,b))"
   ]
  },
  {
   "cell_type": "code",
   "execution_count": 64,
   "id": "20e22592-1050-4e69-ac2b-975d40ce09f4",
   "metadata": {},
   "outputs": [
    {
     "data": {
      "text/plain": [
       "768"
      ]
     },
     "execution_count": 64,
     "metadata": {},
     "output_type": "execute_result"
    }
   ],
   "source": [
    "base_model.config.hidden_size"
   ]
  },
  {
   "cell_type": "code",
   "execution_count": 76,
   "id": "bb6ea377-4199-40ab-a6dd-5ee8a4b86f78",
   "metadata": {},
   "outputs": [],
   "source": [
    "class VisionModel(nn.Module):\n",
    "    def __init__(self):\n",
    "        super().__init__()\n",
    "        self.vision = SiglipVisionModel.from_pretrained('google/siglip2-base-patch16-512')\n",
    "        self.shuffled_dim = self.vision.config.hidden_size * 4\n",
    "\n",
    "    def pixel_shuffle(self, x):\n",
    "        h = w = x.shape[1] ** 0.5\n",
    "        s = 2 # scale_factor\n",
    "        x = rearrange(x,'b (h w) d -> b h w d', h=w, w=w)\n",
    "        x = rearrange(x,'b h (w_s s) d -> b h w_s (s d)',w_s=w//2,s=s)\n",
    "        x = x.transpose(1,2) # b w_s h d*s\n",
    "        x = rearrange(x,'b w_s (h_s s) d -> b w_s h_s (s d)',h_s=h//2,s=s)\n",
    "        x = x.transpose(1,2) # b h_s w_s d*s*s\n",
    "        x = x.flatten(1,2) # b t d*s*s \n",
    "        return x\n",
    "\n",
    "    def forward(self, x):\n",
    "        x = self.vision(x).last_hidden_state\n",
    "        x = self.pixel_shuffle(x)\n",
    "        return x"
   ]
  },
  {
   "cell_type": "code",
   "execution_count": 78,
   "id": "e3811644-f881-49e7-92e5-9ac2774ef6b3",
   "metadata": {},
   "outputs": [
    {
     "data": {
      "text/plain": [
       "torch.Size([1, 256, 3072])"
      ]
     },
     "execution_count": 78,
     "metadata": {},
     "output_type": "execute_result"
    }
   ],
   "source": [
    "m = VisionModel()\n",
    "m(torch.rand(1,3,512,512)).shape"
   ]
  },
  {
   "cell_type": "code",
   "execution_count": 75,
   "id": "0f6d598e-6309-4705-a7a3-605fb4018ad3",
   "metadata": {},
   "outputs": [],
   "source": [
    "class VisionProjector(nn.Module):\n",
    "    def __init__(self, vision_hidden_size, dim):\n",
    "        super().__init__()\n",
    "        self.vision_hidden_size = vision_hidden_size\n",
    "        self.dim = dim\n",
    "        self.proj = nn.Linear(self.vision_hidden_size * 4, self.dim, bias=False)\n",
    "\n",
    "    def forward(self, x):\n",
    "        return self.proj(x)"
   ]
  },
  {
   "cell_type": "code",
   "execution_count": null,
   "id": "54fd526b-0572-4815-a123-07e0b5152c49",
   "metadata": {},
   "outputs": [],
   "source": [
    "class Blinky(nn.Module):\n",
    "    def __init__(self):\n",
    "        super().__init__()\n",
    "        self.vision_encoder = VisionModel()\n",
    "        self.vision_projector = VisionProjector(\n",
    "            self.vision_encoder.vision.config.hidden_size,\n",
    "            576\n",
    "        )\n",
    "        "
   ]
  }
 ],
 "metadata": {
  "kernelspec": {
   "display_name": "Python 3 (ipykernel)",
   "language": "python",
   "name": "python3"
  },
  "language_info": {
   "codemirror_mode": {
    "name": "ipython",
    "version": 3
   },
   "file_extension": ".py",
   "mimetype": "text/x-python",
   "name": "python",
   "nbconvert_exporter": "python",
   "pygments_lexer": "ipython3",
   "version": "3.11.11"
  }
 },
 "nbformat": 4,
 "nbformat_minor": 5
}
